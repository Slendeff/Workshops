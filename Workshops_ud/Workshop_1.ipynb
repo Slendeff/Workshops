{
 "cells": [
  {
   "cell_type": "markdown",
   "metadata": {},
   "source": [
    "# Workshop 1\n",
    "\n",
    "Here you're gonna test your __data scientist junior__ skills. Read carefully each one of the problems, write your own test cases, and validate everything works as expected."
   ]
  },
  {
   "cell_type": "markdown",
   "metadata": {},
   "source": [
    "## 1. Regular Expressions\n",
    "\n",
    "As follows complete the code based on the __requirement__. There is a part `#YOUR CODE HERE` where you _should complete_ to accomplish the task. However, you _could_ change anything you want."
   ]
  },
  {
   "cell_type": "markdown",
   "metadata": {},
   "source": [
    "### Problem 1.1\n",
    "\n",
    "Find a list of all of all of the names in the following string using _regex_."
   ]
  },
  {
   "cell_type": "code",
   "execution_count": 1,
   "metadata": {},
   "outputs": [],
   "source": [
    "import re\n",
    "def names():\n",
    "    simple_string = \"\"\"Amy is 5 years old, and her sister Mary is 2 years old. \n",
    "    Ruth and Peter, their parents, have 3 kids.\"\"\"\n",
    "\n",
    "    pattern = r'\\b[A-Z]\\w*'\n",
    "    \n",
    "    return re.findall(pattern, simple_string) \n"
   ]
  },
  {
   "cell_type": "code",
   "execution_count": 2,
   "metadata": {},
   "outputs": [
    {
     "name": "stdout",
     "output_type": "stream",
     "text": [
      "['Amy', 'Mary', 'Ruth', 'Peter']\n"
     ]
    }
   ],
   "source": [
    "# example of test case\n",
    "assert len(names()) == 4, \"There are four names in the simple_string.\"\n",
    "print(names())"
   ]
  },
  {
   "cell_type": "markdown",
   "metadata": {},
   "source": [
    "### Problem 1.2\n",
    "\n",
    "The _dataset file_ in [assets/grades.txt](./assets/grades.txt) contains a line separated _list of people_ with their __grade__ in a class. Create a _regex_ to generate a list of just those students who received a __B__ in the course."
   ]
  },
  {
   "cell_type": "code",
   "execution_count": 1,
   "metadata": {},
   "outputs": [],
   "source": [
    "import re\n",
    "\n",
    "\n",
    "def grades():\n",
    "    with open(\"assets/grades.txt\", \"r\") as file:\n",
    "        grades = file.read()\n",
    "\n",
    "    b_students = r'\\w[\\w ]*: B'\n",
    "    students = re.findall(b_students, grades)\n",
    "\n",
    "    return students"
   ]
  },
  {
   "cell_type": "code",
   "execution_count": 2,
   "metadata": {},
   "outputs": [
    {
     "name": "stdout",
     "output_type": "stream",
     "text": [
      "['Bell Kassulke: B', 'Simon Loidl: B', 'Elias Jovanovic: B', 'Hakim Botros: B', 'Emilie Lorentsen: B', 'Jake Wood: B', 'Fatemeh Akhtar: B', 'Kim Weston: B', 'Yasmin Dar: B', 'Viswamitra Upandhye: B', 'Killian Kaufman: B', 'Elwood Page: B', 'Elodie Booker: B', 'Adnan Chen: B', 'Hank Spinka: B', 'Hannah Bayer: B']\n"
     ]
    }
   ],
   "source": [
    "# example of test case\n",
    "assert len(grades()) == 16\n",
    "print(grades())"
   ]
  },
  {
   "cell_type": "markdown",
   "metadata": {},
   "source": [
    "### Problem 1.3\n",
    "\n",
    "Consider the standard _web log file_ in [assets/logdata.txt](./assets/logdata.txt). This _file_ records the _access_ a user makes when visiting a web page. Each __line of the log__ has the following _items_:\n",
    "\n",
    "- a __host__ (e.g., `146.204.224.152`)\n",
    "- a __user_name__ (e.g., `feest6811`. _Hint:_ sometimes the user name is missing! In this case, use `-` as the value for the username.)\n",
    "- the __time__ a request was made (e.g., `21/Jun/2019:15:45:24 -0700`)\n",
    "- the post __request type__ (e.g., `POST /incentivize HTTP/1.1`. _Note:_ not everything is a POST!)\n",
    "\n",
    "Your task is to convert this into a list of dictionaries, where each dictionary looks like the following:\n",
    "\n",
    "```python\n",
    "example_dict = {\"host\":\"146.204.224.152\", \n",
    "                \"user_name\":\"feest6811\", \n",
    "                \"time\":\"21/Jun/2019:15:45:24 -0700\",\n",
    "                \"request\":\"POST /incentivize HTTP/1.1\"}\n",
    "```"
   ]
  },
  {
   "cell_type": "code",
   "execution_count": 3,
   "metadata": {},
   "outputs": [],
   "source": [
    "import re\n",
    "\n",
    "\n",
    "def logs():\n",
    "    with open(\"assets/logdata.txt\", \"r\") as file:\n",
    "        logdata = file.read()\n",
    "    actions = re.split(r\"\\n\", logdata)\n",
    "\n",
    "    logs_list = []\n",
    "\n",
    "    # Define regex pattern to extract data\n",
    "    log_pattern = re.compile(\n",
    "        r'(?P<host>[\\d.]+) - (?P<user_name>\\S+) \\[(?P<time>[^\\]]+)\\] \"(?P<request>[^\"]+)\"'\n",
    "    )\n",
    "\n",
    "    for action in actions:\n",
    "        match = log_pattern.match(action)\n",
    "        if match:\n",
    "            log_entry = {\n",
    "                \"host\": match.group(\"host\"),\n",
    "                \"user_name\": match.group(\"user_name\"),\n",
    "                \"time\": match.group(\"time\"),\n",
    "                \"request\": match.group(\"request\")\n",
    "            }\n",
    "            logs_list.append(log_entry)\n",
    "    \n",
    "    return logs_list"
   ]
  },
  {
   "cell_type": "code",
   "execution_count": 4,
   "metadata": {},
   "outputs": [],
   "source": [
    "# example of test case\n",
    "one_item = {\n",
    "    \"host\": \"146.204.224.152\",\n",
    "    \"user_name\": \"feest6811\",\n",
    "    \"time\": \"21/Jun/2019:15:45:24 -0700\",\n",
    "    \"request\": \"POST /incentivize HTTP/1.1\",\n",
    "}\n",
    "assert (\n",
    "    one_item in logs()\n",
    "), \"Sorry, this item should be in the log results, check your formating\""
   ]
  },
  {
   "cell_type": "markdown",
   "metadata": {},
   "source": [
    "# 2. Descriptive Analysis\n",
    "\n",
    "For this section, you'll be looking at _2017 data on immunizations_ from the _CDC_. Your _datafile_ for next tasks is in [assets/NISPUF17.csv](./assets/NISPUF17.csv). A _data users guide_ for this, which you'll need to map the variables in the data to the questions being asked, is available at [assets/NIS-PUF17-DUG.pdf](./assets/NIS-PUF17-DUG.pdf)."
   ]
  },
  {
   "cell_type": "markdown",
   "metadata": {},
   "source": [
    "# Problem 2.1\n",
    "\n",
    "Write a function called _proportion\\_of\\_education_ which returns the proportion of __children__ in the dataset who had a mother with the education levels equal to less than high school ($<12$), high school ($12$), more than high school but not a college graduate ($>12$) and _college degree_.\n",
    "\n",
    "This _function_ should return a __dictionary__ in the form of (use the _correct numbers_, do not round numbers):\n",
    "\n",
    "```python\n",
    "{\n",
    "    \"less than high school\": 0.2,\n",
    "    \"high school\": 0.4,\n",
    "    \"more than high school but not college\": 0.2,\n",
    "    \"college\": 0.2\n",
    "}\n",
    "```"
   ]
  },
  {
   "cell_type": "code",
   "execution_count": 3,
   "metadata": {},
   "outputs": [],
   "source": [
    "import pandas as pd\n",
    "\n",
    "'''\n",
    "    value in dataset -> category\n",
    "    1 -> ( < 12 ) less than high school\n",
    "    2 -> ( 12 ) high school\n",
    "    3 -> ( > 12 ) more than high school but not college\n",
    "    4 -> college degree\n",
    "''' \n",
    "\n",
    "def proportion_of_education() -> dict:\n",
    "    \n",
    "    children_df = pd.read_csv('assets/NISPUF17.csv')\n",
    "    \n",
    "    \n",
    "    total_rows = children_df.shape[0]\n",
    "    \n",
    "    count_ocurrences_by_values = children_df['EDUC1'].value_counts()\n",
    "    \n",
    "    proportion_calculated = count_ocurrences_by_values.apply(lambda x: x/total_rows)\n",
    "    \n",
    "\n",
    "    proportions = {\n",
    "        \"less than high school\": float(proportion_calculated.loc[1]),\n",
    "        \"high school\": float(proportion_calculated.loc[2]),\n",
    "        \"more than high school but no college\": float(proportion_calculated.loc[3]),\n",
    "        \"college\": float(proportion_calculated.loc[4]) \n",
    "    }\n",
    "\n",
    "    return proportions\n",
    "\n"
   ]
  },
  {
   "cell_type": "code",
   "execution_count": 4,
   "metadata": {},
   "outputs": [
    {
     "name": "stdout",
     "output_type": "stream",
     "text": [
      "{'less than high school': 0.10202002459160373, 'high school': 0.172352011241876, 'more than high school but no college': 0.24588090637625154, 'college': 0.47974705779026877}\n"
     ]
    }
   ],
   "source": [
    "# example of test cases\n",
    "assert type(proportion_of_education()) == type({}), \"You must return a dictionary.\"\n",
    "assert (\n",
    "    len(proportion_of_education()) == 4\n",
    "), \"You have not returned a dictionary with four items in it.\"\n",
    "\n",
    "print(proportion_of_education())"
   ]
  },
  {
   "cell_type": "markdown",
   "metadata": {},
   "source": [
    "## Problem 2.2\n",
    "\n",
    "Let's explore the relationship between being _fed breastmilk_ as a child and getting a seasonal _influenza vaccine_ from a healthcare provider. Return a __tuple__ of the _average number of influenza vaccines_ for those children we know received breastmilk as a child and those who know did not.\n",
    "\n",
    "This _function_ should return a __tuple__ in the form (use the _correct numbers_):\n",
    "\n",
    "```python\n",
    "(2.5, 0.1)\n",
    "```"
   ]
  },
  {
   "cell_type": "code",
   "execution_count": 6,
   "metadata": {},
   "outputs": [
    {
     "data": {
      "text/plain": [
       "(1.8799187420058687, 1.5963945918878317)"
      ]
     },
     "execution_count": 6,
     "metadata": {},
     "output_type": "execute_result"
    }
   ],
   "source": [
    "'''\n",
    "    [CBF_01]\n",
    "    value in dataset -> category\n",
    "    1 -> Yes\n",
    "    2 -> No\n",
    "''' \n",
    "\n",
    "def average_influenza_doses() -> tuple:\n",
    "\n",
    "    children_df = pd.read_csv('assets/NISPUF17.csv')\n",
    "\n",
    "    # Total rows\n",
    "    #print(children_df.shape[0])\n",
    "    \n",
    "    # Has CBF_01 null values ?\n",
    "    #print(children_df['CBF_01'].value_counts().sum())\n",
    "    \n",
    "    # Has P_NUMFLI null values ? -> 46% are null values\n",
    "    #print(children_df['P_NUMFLU'].isnull().sum() / children_df.shape[0])\n",
    "       \n",
    "    # mean avoids Null values\n",
    "    average_per_category_df = children_df.groupby(['CBF_01'], observed=False).agg({'P_NUMFLU': 'mean'})\n",
    "    \n",
    "    doses = (float(average_per_category_df.loc[1, 'P_NUMFLU']), float(average_per_category_df.loc[2, 'P_NUMFLU']))\n",
    "\n",
    "    return doses\n"
   ]
  },
  {
   "cell_type": "code",
   "execution_count": 12,
   "metadata": {},
   "outputs": [
    {
     "name": "stdout",
     "output_type": "stream",
     "text": [
      "(1.8799187420058687, 1.5963945918878317)\n"
     ]
    }
   ],
   "source": [
    "# example of test cases\n",
    "assert (\n",
    "    len(average_influenza_doses()) == 2\n",
    "), \"Return two values in a tuple, the first for yes and the second for no.\"\n",
    "\n",
    "print(average_influenza_doses())"
   ]
  },
  {
   "cell_type": "markdown",
   "metadata": {},
   "source": [
    "## Problem 2.3\n",
    "\n",
    "It would be interesting to see if there is any evidence of a link between _vaccine effectiveness_ and _sex of the child_. Calculate the _ratio of the number of children_ who contracted __chickenpox__ but _were vaccinated against it_ (at least one varicella dose) versus those who were vaccinated but did not contract _chicken pox_. Return results by _sex_.\n",
    "\n",
    "This _function_ should return a __dictionary__ in the form of (use the _correct numbers_):\n",
    "\n",
    "```python\n",
    "{\n",
    "    \"male\":0.2,\n",
    "    \"female\":0.4\n",
    "}\n",
    "```\n",
    "\n",
    "_Note:_ To aid in verification, the `chickenpox_by_sex()['female']` value the autograder is looking for starts with the digits `0.0077`.\n"
   ]
  },
  {
   "cell_type": "code",
   "execution_count": 8,
   "metadata": {},
   "outputs": [
    {
     "name": "stdout",
     "output_type": "stream",
     "text": [
      "{'male': 0.009675583380762664, 'female': 0.0077918259335489565}\n"
     ]
    }
   ],
   "source": [
    "'''\n",
    "    [HAD_CPOX]\n",
    "    value in dataset -> category\n",
    "    1 -> Yes\n",
    "    2 -> No\n",
    "    ---------------\n",
    "    [SEX]\n",
    "    value in dataset -> category\n",
    "    1 -> Male\n",
    "    2 -> Female\n",
    "    [P_NUMVRC]\n",
    "    total number of varicella doses\n",
    "''' \n",
    "\n",
    "def calculate_ratio_by_sex(sex_code: bool, children_df: pd.DataFrame) -> float:\n",
    "    \n",
    "    yes_code = 1\n",
    "    no_code = 2\n",
    "    \n",
    "    # number of population that has been vaccinated and infected / The query avoids NaN\n",
    "    children_vaccined_infected = children_df[\n",
    "        (children_df['SEX'] == sex_code)\n",
    "        & (children_df['HAD_CPOX'] == yes_code)\n",
    "        & (children_df['P_NUMVRC'] >= 1)\n",
    "    ].shape[0]\n",
    "\n",
    "    # number of population that has been vaccinated and has not infected / The query avoids NaN\n",
    "    children_vaccined_no_infected = children_df[\n",
    "        (children_df['SEX'] == sex_code)\n",
    "        & (children_df['HAD_CPOX'] == no_code)\n",
    "        & (children_df['P_NUMVRC'] >= 1)\n",
    "    ].shape[0]\n",
    "\n",
    "    return children_vaccined_infected / children_vaccined_no_infected\n",
    "\n",
    "def chickenpox_by_sex():\n",
    "    \n",
    "    children_df = pd.read_csv('assets/NISPUF17.csv')\n",
    "    male_code = 1\n",
    "    female_code = 2\n",
    "    \n",
    "    male_ratio = calculate_ratio_by_sex(male_code, children_df)\n",
    "    female_ratio = calculate_ratio_by_sex(female_code, children_df)\n",
    "\n",
    "    stats = {\n",
    "        \"male\": male_ratio,\n",
    "        \"female\": female_ratio\n",
    "    }\n",
    "\n",
    "    return stats\n",
    "\n",
    "print(chickenpox_by_sex())\n"
   ]
  },
  {
   "cell_type": "markdown",
   "metadata": {},
   "source": [
    "## Problem 2.4\n",
    "\n",
    "A __correlation__ is a _statistical relationship_ between two variables. If we wanted to know _if vaccines work_, we might look at the correlation between the use of the vaccine and whether it results in prevention of the infection or disease. In this task, you are to see if there is a correlation between _having had the chicken pox_ and the _number of chickenpox vaccine doses given_ (varicella).\n",
    "\n",
    "Some notes on interpreting the answer. The `had_chickenpox_column` is either $1$ (for _yes_) or $2$ (for _no_), and the `num_chickenpox_vaccine_column` is the number of doses a child has been given of the varicella vaccine. A _positive correlation_ (e.g., $corr > 0$) means that an increase in _had\\_chickenpox\\_column_ (which means more _no_’s) would also increase the values of _num\\_chickenpox\\_vaccine\\_column_ (which means _more doses of vaccine_). If there is a _negative correlation_ (e.g., $corr < 0$), it indicates that having had chickenpox is related to an increase in the number of vaccine doses.\n",
    "\n",
    "Also, $pval$ is the probability that we observe a correlation between _had\\_chickenpox\\_column_ and _num\\_chickenpox\\_vaccine\\_column_ which is greater than or equal to a particular value occurred by chance. A _small pval_ means that the observed correlation is highly unlikely to occur by chance. In this case, _pval_ should be very small (will end in $e-18$ indicating a very small number)."
   ]
  },
  {
   "cell_type": "code",
   "execution_count": 9,
   "metadata": {},
   "outputs": [
    {
     "data": {
      "text/plain": [
       "-0.00727421127309124"
      ]
     },
     "execution_count": 9,
     "metadata": {},
     "output_type": "execute_result"
    }
   ],
   "source": [
    "import scipy.stats as stats\n",
    "import numpy as np\n",
    "import pandas as pd\n",
    "\n",
    "'''\n",
    "    [had_chickenpox_column]\n",
    "    1 -> yes\n",
    "    2 -> no\n",
    "    [num_chicken_vaccine_column]\n",
    "    number of dosis given\n",
    "'''\n",
    "\n",
    "def corr_chickenpox() -> float:\n",
    "\n",
    "    # this is just an example dataframe\n",
    "    children_df = pd.read_csv('assets/NISPUF17.csv')\n",
    "    vaccined_children_df = children_df[children_df[\"P_NUMVRC\"] >= 1]\n",
    "\n",
    "    # here is some stub code to actually run the correlation\n",
    "    corr, pval = stats.pearsonr(\n",
    "        vaccined_children_df[\"HAD_CPOX\"], vaccined_children_df[\"P_NUMVRC\"]\n",
    "    )\n",
    "    \n",
    "    return float(corr)"
   ]
  },
  {
   "cell_type": "code",
   "execution_count": 13,
   "metadata": {},
   "outputs": [
    {
     "name": "stdout",
     "output_type": "stream",
     "text": [
      "-0.00727421127309124\n"
     ]
    }
   ],
   "source": [
    "# example of test cases\n",
    "assert (\n",
    "    -1 <= corr_chickenpox() <= 1\n",
    "), \"You must return a float number between -1.0 and 1.0.\"\n",
    "\n",
    "print(corr_chickenpox())"
   ]
  }
 ],
 "metadata": {
  "kernelspec": {
   "display_name": "data_science_course",
   "language": "python",
   "name": "python3"
  },
  "language_info": {
   "codemirror_mode": {
    "name": "ipython",
    "version": 3
   },
   "file_extension": ".py",
   "mimetype": "text/x-python",
   "name": "python",
   "nbconvert_exporter": "python",
   "pygments_lexer": "ipython3",
   "version": "3.12.4"
  }
 },
 "nbformat": 4,
 "nbformat_minor": 2
}
